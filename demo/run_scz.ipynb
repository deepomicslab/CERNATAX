{
 "cells": [
  {
   "cell_type": "code",
   "execution_count": 2,
   "id": "321f02a0-46b3-4f09-ab6c-8d34fdeefa53",
   "metadata": {},
   "outputs": [],
   "source": [
    "%load_ext autoreload\n",
    "import pandas as pd\n"
   ]
  },
  {
   "cell_type": "code",
   "execution_count": 3,
   "id": "dd31abaf-742e-47e5-aadf-4988cc4f89f7",
   "metadata": {},
   "outputs": [
    {
     "name": "stdout",
     "output_type": "stream",
     "text": [
      "A total of 863260 miRNA-mRNA interaction and 180717 miRNA-lncRNA interaction\n",
      "miRNA-mRNA                 863260\n",
      "miRNA-lncRNA               180717\n",
      "miRNA-mRNA;miRNA-lncRNA      2498\n",
      "Name: type, dtype: int64\n"
     ]
    }
   ],
   "source": [
    "%autoreload\n",
    "\n",
    "from cernatax.cernatax import CERNATAX\n",
    "\n",
    "cernatax = CERNATAX()\n",
    "cernatax.summarize_ref_db()"
   ]
  },
  {
   "cell_type": "code",
   "execution_count": 4,
   "id": "955cb16e-0d01-4d72-8667-f3a27d45fe06",
   "metadata": {},
   "outputs": [],
   "source": [
    "cernatax.ref_db[cernatax.ref_db.type == 'miRNA-mRNA;miRNA-lncRNA'].to_csv('ceRNA_db_mix.csv')"
   ]
  },
  {
   "cell_type": "code",
   "execution_count": 6,
   "id": "98112f80-c088-4d26-a243-843e0c769e87",
   "metadata": {},
   "outputs": [
    {
     "name": "stdout",
     "output_type": "stream",
     "text": [
      "28171\n",
      "19683\n",
      "12569\n"
     ]
    }
   ],
   "source": [
    "%autoreload\n",
    "ref_db = cernatax.ref_db\n",
    "\n",
    "len(ref_db.miRNA.unique())\n",
    "\n",
    "print(len(ref_db.ceRNA.unique()))\n",
    "print(len(ref_db[ref_db.type == 'miRNA-mRNA'].ceRNA.unique()))\n",
    "\n",
    "print(len(ref_db[ref_db.type == 'miRNA-lncRNA'].ceRNA.unique()))"
   ]
  },
  {
   "cell_type": "code",
   "execution_count": 56,
   "id": "b1a3af40-0756-4547-8188-8a4bcf807c91",
   "metadata": {},
   "outputs": [],
   "source": []
  },
  {
   "cell_type": "code",
   "execution_count": 7,
   "id": "aafc5d9f-7a8e-40e5-8168-9d555e14be9c",
   "metadata": {},
   "outputs": [
    {
     "data": {
      "text/html": [
       "<div>\n",
       "<style scoped>\n",
       "    .dataframe tbody tr th:only-of-type {\n",
       "        vertical-align: middle;\n",
       "    }\n",
       "\n",
       "    .dataframe tbody tr th {\n",
       "        vertical-align: top;\n",
       "    }\n",
       "\n",
       "    .dataframe thead th {\n",
       "        text-align: right;\n",
       "    }\n",
       "</style>\n",
       "<table border=\"1\" class=\"dataframe\">\n",
       "  <thead>\n",
       "    <tr style=\"text-align: right;\">\n",
       "      <th></th>\n",
       "      <th>miRNA</th>\n",
       "      <th>ceRNA</th>\n",
       "      <th>species</th>\n",
       "      <th>database</th>\n",
       "      <th>type</th>\n",
       "      <th>miRNA_log2FC</th>\n",
       "      <th>ceRNA_log2FC</th>\n",
       "    </tr>\n",
       "  </thead>\n",
       "  <tbody>\n",
       "    <tr>\n",
       "      <th>623682</th>\n",
       "      <td>hsa-miR-485-5p</td>\n",
       "      <td>PPARGC1A</td>\n",
       "      <td>Homo sapiens</td>\n",
       "      <td>TargetSCAN_8.0;miRTarBase_9.0;miRDB_6.0</td>\n",
       "      <td>miRNA-mRNA</td>\n",
       "      <td>-3.818348</td>\n",
       "      <td>3.927339</td>\n",
       "    </tr>\n",
       "    <tr>\n",
       "      <th>623931</th>\n",
       "      <td>hsa-miR-485-5p</td>\n",
       "      <td>THUMPD3-AS1</td>\n",
       "      <td>Homo sapiens</td>\n",
       "      <td>ENCORI</td>\n",
       "      <td>miRNA-lncRNA</td>\n",
       "      <td>-3.818348</td>\n",
       "      <td>24.000216</td>\n",
       "    </tr>\n",
       "    <tr>\n",
       "      <th>623514</th>\n",
       "      <td>hsa-miR-485-5p</td>\n",
       "      <td>MIR29B2CHG</td>\n",
       "      <td>Homo sapiens</td>\n",
       "      <td>ENCORI</td>\n",
       "      <td>miRNA-lncRNA</td>\n",
       "      <td>-3.818348</td>\n",
       "      <td>27.798232</td>\n",
       "    </tr>\n",
       "  </tbody>\n",
       "</table>\n",
       "</div>"
      ],
      "text/plain": [
       "                 miRNA        ceRNA       species  \\\n",
       "623682  hsa-miR-485-5p     PPARGC1A  Homo sapiens   \n",
       "623931  hsa-miR-485-5p  THUMPD3-AS1  Homo sapiens   \n",
       "623514  hsa-miR-485-5p   MIR29B2CHG  Homo sapiens   \n",
       "\n",
       "                                       database          type  miRNA_log2FC  \\\n",
       "623682  TargetSCAN_8.0;miRTarBase_9.0;miRDB_6.0    miRNA-mRNA     -3.818348   \n",
       "623931                                   ENCORI  miRNA-lncRNA     -3.818348   \n",
       "623514                                   ENCORI  miRNA-lncRNA     -3.818348   \n",
       "\n",
       "        ceRNA_log2FC  \n",
       "623682      3.927339  \n",
       "623931     24.000216  \n",
       "623514     27.798232  "
      ]
     },
     "execution_count": 7,
     "metadata": {},
     "output_type": "execute_result"
    }
   ],
   "source": [
    "%autoreload\n",
    "deg_df = pd.read_csv('scz_deg_gene.csv', index_col=0)\n",
    "ceRNA_df, axis_df = cernatax.find_ceRNA_axis_by_DEG(deg_df)\n",
    "\n",
    "ceRNA_df.to_csv('SCZ_ceRNA_network.csv')\n",
    "axis_df.to_csv('SCZ_ceRNA_axis.csv')\n",
    "axis_df"
   ]
  }
 ],
 "metadata": {
  "kernelspec": {
   "display_name": "Python 3 (ipykernel)",
   "language": "python",
   "name": "python3"
  },
  "language_info": {
   "codemirror_mode": {
    "name": "ipython",
    "version": 3
   },
   "file_extension": ".py",
   "mimetype": "text/x-python",
   "name": "python",
   "nbconvert_exporter": "python",
   "pygments_lexer": "ipython3",
   "version": "3.9.13"
  }
 },
 "nbformat": 4,
 "nbformat_minor": 5
}
