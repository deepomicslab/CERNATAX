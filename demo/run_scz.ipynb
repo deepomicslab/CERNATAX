{
 "cells": [
  {
   "cell_type": "code",
   "execution_count": 97,
   "id": "321f02a0-46b3-4f09-ab6c-8d34fdeefa53",
   "metadata": {},
   "outputs": [
    {
     "name": "stdout",
     "output_type": "stream",
     "text": [
      "The autoreload extension is already loaded. To reload it, use:\n",
      "  %reload_ext autoreload\n"
     ]
    }
   ],
   "source": [
    "%load_ext autoreload\n",
    "import pandas as pd\n"
   ]
  },
  {
   "cell_type": "code",
   "execution_count": 98,
   "id": "dd31abaf-742e-47e5-aadf-4988cc4f89f7",
   "metadata": {},
   "outputs": [
    {
     "name": "stdout",
     "output_type": "stream",
     "text": [
      "A total of 7820904 miRNA-mRNA interaction and 176510 miRNA-lncRNA interaction\n",
      "miRNA-mRNA                 7820904\n",
      "miRNA-lncRNA                176510\n",
      "miRNA-mRNA;miRNA-lncRNA      10915\n",
      "Name: type, dtype: int64\n"
     ]
    }
   ],
   "source": [
    "%autoreload\n",
    "\n",
    "from CERNATAX.cernatax.cernatax import CERNATAX\n",
    "\n",
    "cernatax = CERNATAX()\n",
    "cernatax.summarize_ref_db()"
   ]
  },
  {
   "cell_type": "code",
   "execution_count": 99,
   "id": "ef45eb9e-5000-423a-af43-48cef9df203a",
   "metadata": {},
   "outputs": [
    {
     "data": {
      "text/plain": [
       "miRWalk                                                                 6494557\n",
       "RNAInter                                                                 425707\n",
       "miRDB_6.0                                                                297889\n",
       "RNAInter;miRTarBase_9.0                                                  252458\n",
       "NPInter_4.0                                                              109142\n",
       "                                                                         ...   \n",
       "miRDB_6.0;RNAInter;ENCORI                                                     2\n",
       "miRDB_6.0;ENCORI                                                              2\n",
       "RNAInter;miRWalk;ENCORI                                                       2\n",
       "miRDB_6.0;NPInter_4.0;miRTarBase_9.0                                          1\n",
       "TargetSCAN_8.0;NPInter_4.0;miRTarBase_9.0;RNAInter;miRDB_6.0;miRWalk          1\n",
       "Name: database, Length: 69, dtype: int64"
      ]
     },
     "execution_count": 99,
     "metadata": {},
     "output_type": "execute_result"
    }
   ],
   "source": [
    "cernatax.ref_db.database.value_counts()"
   ]
  },
  {
   "cell_type": "code",
   "execution_count": 100,
   "id": "955cb16e-0d01-4d72-8667-f3a27d45fe06",
   "metadata": {},
   "outputs": [],
   "source": [
    "cernatax.ref_db[cernatax.ref_db.type == 'miRNA-mRNA;miRNA-lncRNA'].to_csv('ceRNA_db_mix.csv')"
   ]
  },
  {
   "cell_type": "code",
   "execution_count": 101,
   "id": "98112f80-c088-4d26-a243-843e0c769e87",
   "metadata": {},
   "outputs": [
    {
     "name": "stdout",
     "output_type": "stream",
     "text": [
      "30177\n",
      "21354\n",
      "12849\n"
     ]
    }
   ],
   "source": [
    "%autoreload\n",
    "ref_db = cernatax.ref_db\n",
    "\n",
    "len(ref_db.miRNA.unique())\n",
    "\n",
    "print(len(ref_db.ceRNA.unique()))\n",
    "print(len(ref_db[ref_db.type == 'miRNA-mRNA'].ceRNA.unique()))\n",
    "\n",
    "print(len(ref_db[ref_db.type == 'miRNA-lncRNA'].ceRNA.unique()))"
   ]
  },
  {
   "cell_type": "code",
   "execution_count": 113,
   "id": "aafc5d9f-7a8e-40e5-8168-9d555e14be9c",
   "metadata": {},
   "outputs": [
    {
     "data": {
      "text/html": [
       "<div>\n",
       "<style scoped>\n",
       "    .dataframe tbody tr th:only-of-type {\n",
       "        vertical-align: middle;\n",
       "    }\n",
       "\n",
       "    .dataframe tbody tr th {\n",
       "        vertical-align: top;\n",
       "    }\n",
       "\n",
       "    .dataframe thead th {\n",
       "        text-align: right;\n",
       "    }\n",
       "</style>\n",
       "<table border=\"1\" class=\"dataframe\">\n",
       "  <thead>\n",
       "    <tr style=\"text-align: right;\">\n",
       "      <th></th>\n",
       "      <th>miRNA</th>\n",
       "      <th>ceRNA</th>\n",
       "      <th>species</th>\n",
       "      <th>database</th>\n",
       "      <th>type</th>\n",
       "      <th>miRNA_log2FC</th>\n",
       "      <th>ceRNA_log2FC</th>\n",
       "      <th>inference</th>\n",
       "    </tr>\n",
       "  </thead>\n",
       "  <tbody>\n",
       "    <tr>\n",
       "      <th>1775644</th>\n",
       "      <td>hsa-miR-3064-5p</td>\n",
       "      <td>ARHGAP8</td>\n",
       "      <td>Homo sapiens</td>\n",
       "      <td>miRWalk</td>\n",
       "      <td>miRNA-mRNA</td>\n",
       "      <td>-2.123515</td>\n",
       "      <td>5.218091</td>\n",
       "      <td>loose</td>\n",
       "    </tr>\n",
       "    <tr>\n",
       "      <th>2651500</th>\n",
       "      <td>hsa-miR-3690</td>\n",
       "      <td>ARHGAP8</td>\n",
       "      <td>Homo sapiens</td>\n",
       "      <td>miRWalk</td>\n",
       "      <td>miRNA-mRNA</td>\n",
       "      <td>2.132123</td>\n",
       "      <td>5.218091</td>\n",
       "      <td>loose</td>\n",
       "    </tr>\n",
       "    <tr>\n",
       "      <th>4490251</th>\n",
       "      <td>hsa-miR-485-5p</td>\n",
       "      <td>ARHGAP8</td>\n",
       "      <td>Homo sapiens</td>\n",
       "      <td>miRWalk</td>\n",
       "      <td>miRNA-mRNA</td>\n",
       "      <td>-3.818348</td>\n",
       "      <td>5.218091</td>\n",
       "      <td>loose</td>\n",
       "    </tr>\n",
       "    <tr>\n",
       "      <th>1775806</th>\n",
       "      <td>hsa-miR-3064-5p</td>\n",
       "      <td>BCL2A1</td>\n",
       "      <td>Homo sapiens</td>\n",
       "      <td>miRWalk</td>\n",
       "      <td>miRNA-mRNA</td>\n",
       "      <td>-2.123515</td>\n",
       "      <td>1.586707</td>\n",
       "      <td>loose</td>\n",
       "    </tr>\n",
       "    <tr>\n",
       "      <th>1775833</th>\n",
       "      <td>hsa-miR-3064-5p</td>\n",
       "      <td>BIRC5</td>\n",
       "      <td>Homo sapiens</td>\n",
       "      <td>miRWalk</td>\n",
       "      <td>miRNA-mRNA</td>\n",
       "      <td>-2.123515</td>\n",
       "      <td>1.762193</td>\n",
       "      <td>loose</td>\n",
       "    </tr>\n",
       "    <tr>\n",
       "      <th>...</th>\n",
       "      <td>...</td>\n",
       "      <td>...</td>\n",
       "      <td>...</td>\n",
       "      <td>...</td>\n",
       "      <td>...</td>\n",
       "      <td>...</td>\n",
       "      <td>...</td>\n",
       "      <td>...</td>\n",
       "    </tr>\n",
       "    <tr>\n",
       "      <th>4493678</th>\n",
       "      <td>hsa-miR-485-5p</td>\n",
       "      <td>PFDN4</td>\n",
       "      <td>Homo sapiens</td>\n",
       "      <td>miRWalk</td>\n",
       "      <td>miRNA-mRNA</td>\n",
       "      <td>-3.818348</td>\n",
       "      <td>2.222695</td>\n",
       "      <td>loose</td>\n",
       "    </tr>\n",
       "    <tr>\n",
       "      <th>4493984</th>\n",
       "      <td>hsa-miR-485-5p</td>\n",
       "      <td>PRRT2</td>\n",
       "      <td>Homo sapiens</td>\n",
       "      <td>RNAInter</td>\n",
       "      <td>miRNA-mRNA</td>\n",
       "      <td>-3.818348</td>\n",
       "      <td>-1.558193</td>\n",
       "      <td>loose</td>\n",
       "    </tr>\n",
       "    <tr>\n",
       "      <th>4494347</th>\n",
       "      <td>hsa-miR-485-5p</td>\n",
       "      <td>RPL9</td>\n",
       "      <td>Homo sapiens</td>\n",
       "      <td>miRWalk</td>\n",
       "      <td>miRNA-mRNA</td>\n",
       "      <td>-3.818348</td>\n",
       "      <td>2.342160</td>\n",
       "      <td>loose</td>\n",
       "    </tr>\n",
       "    <tr>\n",
       "      <th>4494366</th>\n",
       "      <td>hsa-miR-485-5p</td>\n",
       "      <td>RPS7</td>\n",
       "      <td>Homo sapiens</td>\n",
       "      <td>miRWalk</td>\n",
       "      <td>miRNA-mRNA</td>\n",
       "      <td>-3.818348</td>\n",
       "      <td>1.601449</td>\n",
       "      <td>loose</td>\n",
       "    </tr>\n",
       "    <tr>\n",
       "      <th>4494399</th>\n",
       "      <td>hsa-miR-485-5p</td>\n",
       "      <td>RWDD3</td>\n",
       "      <td>Homo sapiens</td>\n",
       "      <td>miRWalk</td>\n",
       "      <td>miRNA-mRNA</td>\n",
       "      <td>-3.818348</td>\n",
       "      <td>2.265765</td>\n",
       "      <td>loose</td>\n",
       "    </tr>\n",
       "  </tbody>\n",
       "</table>\n",
       "<p>118 rows × 8 columns</p>\n",
       "</div>"
      ],
      "text/plain": [
       "                   miRNA    ceRNA       species  database        type  \\\n",
       "1775644  hsa-miR-3064-5p  ARHGAP8  Homo sapiens   miRWalk  miRNA-mRNA   \n",
       "2651500     hsa-miR-3690  ARHGAP8  Homo sapiens   miRWalk  miRNA-mRNA   \n",
       "4490251   hsa-miR-485-5p  ARHGAP8  Homo sapiens   miRWalk  miRNA-mRNA   \n",
       "1775806  hsa-miR-3064-5p   BCL2A1  Homo sapiens   miRWalk  miRNA-mRNA   \n",
       "1775833  hsa-miR-3064-5p    BIRC5  Homo sapiens   miRWalk  miRNA-mRNA   \n",
       "...                  ...      ...           ...       ...         ...   \n",
       "4493678   hsa-miR-485-5p    PFDN4  Homo sapiens   miRWalk  miRNA-mRNA   \n",
       "4493984   hsa-miR-485-5p    PRRT2  Homo sapiens  RNAInter  miRNA-mRNA   \n",
       "4494347   hsa-miR-485-5p     RPL9  Homo sapiens   miRWalk  miRNA-mRNA   \n",
       "4494366   hsa-miR-485-5p     RPS7  Homo sapiens   miRWalk  miRNA-mRNA   \n",
       "4494399   hsa-miR-485-5p    RWDD3  Homo sapiens   miRWalk  miRNA-mRNA   \n",
       "\n",
       "         miRNA_log2FC  ceRNA_log2FC inference  \n",
       "1775644     -2.123515      5.218091     loose  \n",
       "2651500      2.132123      5.218091     loose  \n",
       "4490251     -3.818348      5.218091     loose  \n",
       "1775806     -2.123515      1.586707     loose  \n",
       "1775833     -2.123515      1.762193     loose  \n",
       "...               ...           ...       ...  \n",
       "4493678     -3.818348      2.222695     loose  \n",
       "4493984     -3.818348     -1.558193     loose  \n",
       "4494347     -3.818348      2.342160     loose  \n",
       "4494366     -3.818348      1.601449     loose  \n",
       "4494399     -3.818348      2.265765     loose  \n",
       "\n",
       "[118 rows x 8 columns]"
      ]
     },
     "execution_count": 113,
     "metadata": {},
     "output_type": "execute_result"
    }
   ],
   "source": [
    "%autoreload\n",
    "deg_strict_df = pd.read_csv('scz_deg_gene_strict.csv', index_col=0)\n",
    "deg_loose_df = pd.read_csv('scz_deg_mRNA_loose.csv', index_col=0)\n",
    "\n",
    "ceRNA_df, axis_df = cernatax.find_ceRNA_axis_by_DEG(deg_strict_df)\n",
    "\n",
    "ceRNA_df.to_csv('SCZ_ceRNA_network.csv')\n",
    "axis_df.to_csv('SCZ_ceRNA_axis.csv')\n",
    "\n",
    "loose_axis_df = cernatax.expand_ceRNA_axis_by_loose_DEG(deg_strict_df, deg_loose_df)\n",
    "loose_axis_df.to_csv('SCZ_ceRNA_loose_axis.csv')\n",
    "loose_axis_df"
   ]
  },
  {
   "cell_type": "code",
   "execution_count": 30,
   "id": "3a8dcf8b-2432-490d-a3e2-f7631baef61d",
   "metadata": {},
   "outputs": [
    {
     "name": "stdout",
     "output_type": "stream",
     "text": [
      "WARNING: Default of the method has been changed to 't-test' from 't-test_overestim_var'\n"
     ]
    },
    {
     "name": "stderr",
     "output_type": "stream",
     "text": [
      "/var/folders/0x/6vsm66sd6g3_gc636v4617km0000gn/T/ipykernel_9962/411532638.py:10: FutureWarning: X.dtype being converted to np.float32 from int64. In the next version of anndata (0.9) conversion will not be automatic. Pass dtype explicitly to avoid this warning. Pass `AnnData(X, dtype=X.dtype, ...)` to get the future behavour.\n",
      "  adata = ad.AnnData(df.T)\n",
      "/Users/chenlingxi/miniconda3/envs/stime/lib/python3.10/site-packages/anndata/_core/anndata.py:1830: UserWarning: Variable names are not unique. To make them unique, call `.var_names_make_unique`.\n",
      "  utils.warn_names_duplicates(\"var\")\n"
     ]
    },
    {
     "name": "stdout",
     "output_type": "stream",
     "text": [
      "WARNING: It seems you use rank_genes_groups on the raw count data. Please logarithmize your data before calling rank_genes_groups.\n",
      "         names    scores  logfoldchanges     pvals  pvals_adj\n",
      "1227  PPARGC1A  2.616456       22.302155  0.046199   0.669828\n"
     ]
    },
    {
     "name": "stderr",
     "output_type": "stream",
     "text": [
      "/Users/chenlingxi/miniconda3/envs/stime/lib/python3.10/site-packages/scanpy/tools/_rank_genes_groups.py:417: RuntimeWarning: overflow encountered in expm1\n",
      "  foldchanges = (self.expm1_func(mean_group) + 1e-9) / (\n",
      "/Users/chenlingxi/miniconda3/envs/stime/lib/python3.10/site-packages/scanpy/tools/_rank_genes_groups.py:418: RuntimeWarning: overflow encountered in expm1\n",
      "  self.expm1_func(mean_rest) + 1e-9\n",
      "/Users/chenlingxi/miniconda3/envs/stime/lib/python3.10/site-packages/scanpy/tools/_rank_genes_groups.py:417: RuntimeWarning: invalid value encountered in divide\n",
      "  foldchanges = (self.expm1_func(mean_group) + 1e-9) / (\n",
      "/Users/chenlingxi/miniconda3/envs/stime/lib/python3.10/site-packages/scanpy/tools/_rank_genes_groups.py:420: RuntimeWarning: divide by zero encountered in log2\n",
      "  self.stats[group_name, 'logfoldchanges'] = np.log2(\n",
      "/Users/chenlingxi/miniconda3/envs/stime/lib/python3.10/site-packages/scanpy/tools/_rank_genes_groups.py:417: RuntimeWarning: overflow encountered in expm1\n",
      "  foldchanges = (self.expm1_func(mean_group) + 1e-9) / (\n",
      "/Users/chenlingxi/miniconda3/envs/stime/lib/python3.10/site-packages/scanpy/tools/_rank_genes_groups.py:418: RuntimeWarning: overflow encountered in expm1\n",
      "  self.expm1_func(mean_rest) + 1e-9\n",
      "/Users/chenlingxi/miniconda3/envs/stime/lib/python3.10/site-packages/scanpy/tools/_rank_genes_groups.py:417: RuntimeWarning: invalid value encountered in divide\n",
      "  foldchanges = (self.expm1_func(mean_group) + 1e-9) / (\n",
      "/Users/chenlingxi/miniconda3/envs/stime/lib/python3.10/site-packages/scanpy/tools/_rank_genes_groups.py:420: RuntimeWarning: divide by zero encountered in log2\n",
      "  self.stats[group_name, 'logfoldchanges'] = np.log2(\n"
     ]
    },
    {
     "data": {
      "image/png": "[encoded data removed]",
      "text/plain": [
       "<Figure size 640x480 with 1 Axes>"
      ]
     },
     "metadata": {},
     "output_type": "display_data"
    },
    {
     "data": {
      "image/png": "[encoded data removed]",
      "text/plain": [
       "<Figure size 640x480 with 1 Axes>"
      ]
     },
     "metadata": {},
     "output_type": "display_data"
    }
   ],
   "source": [
    "import anndata as ad\n",
    "import matplotlib.pyplot as plt \n",
    "import seaborn as sns\n",
    "\n",
    "\n",
    "df = pd.read_csv('scz_count/mRNA/All_gene_counts.list', delimiter='\\t')\n",
    "df.index = df.Symbol\n",
    "del df['#ID']\n",
    "del df['Symbol']\n",
    "adata = ad.AnnData(df.T)\n",
    "adata.obs['type'] = ['SCZ']*6 + ['Control']*5\n",
    "mRNA_adata = adata\n",
    "\n",
    "import scanpy as sc\n",
    "\n",
    "sc.tl.rank_genes_groups(adata, groupby=\"type\")\n",
    "dedf = sc.get.rank_genes_groups_df(adata, group=\"SCZ\")\n",
    "print(dedf[dedf.names.isin(['PGC1A', 'PPARGC1A'])])\n",
    "#sc.pl.violin(adata, ['PPARGC1A'], groupby='type')\n",
    "sns.histplot(adata[adata.obs.type=='Control', 'PPARGC1A'].X)\n",
    "plt.title('Control')\n",
    "plt.show()\n",
    "sns.histplot(adata[adata.obs.type=='SCZ', 'PPARGC1A'].X)\n",
    "plt.title('SCZ')\n",
    "plt.show()\n"
   ]
  },
  {
   "cell_type": "code",
   "execution_count": 56,
   "id": "75734939-a055-4338-bd23-3c04c166d96c",
   "metadata": {},
   "outputs": [
    {
     "name": "stdout",
     "output_type": "stream",
     "text": [
      "4965.6\n",
      "4572.8335\n"
     ]
    },
    {
     "data": {
      "text/plain": [
       "AnnData object with n_obs × n_vars = 11 × 25888\n",
       "    obs: 'type'\n",
       "    uns: 'rank_genes_groups'"
      ]
     },
     "execution_count": 56,
     "metadata": {},
     "output_type": "execute_result"
    }
   ],
   "source": [
    "print(adata[adata.obs.type=='Control', 'GSK3B'].X.mean())\n",
    "plt.show()\n",
    "print(adata[adata.obs.type=='SCZ', 'GSK3B'].X.mean())\n",
    "adata"
   ]
  },
  {
   "cell_type": "code",
   "execution_count": 51,
   "id": "b8e9b3c3-c238-4fe3-a849-3553e78053fc",
   "metadata": {},
   "outputs": [
    {
     "name": "stdout",
     "output_type": "stream",
     "text": [
      "WARNING: It seems you use rank_genes_groups on the raw count data. Please logarithmize your data before calling rank_genes_groups.\n",
      "       names    scores  logfoldchanges     pvals  pvals_adj\n",
      "19545  GSK3B -0.365148             NaN  0.715001        1.0\n"
     ]
    },
    {
     "name": "stderr",
     "output_type": "stream",
     "text": [
      "/Users/chenlingxi/miniconda3/envs/stime/lib/python3.10/site-packages/scanpy/tools/_rank_genes_groups.py:417: RuntimeWarning: overflow encountered in expm1\n",
      "  foldchanges = (self.expm1_func(mean_group) + 1e-9) / (\n",
      "/Users/chenlingxi/miniconda3/envs/stime/lib/python3.10/site-packages/scanpy/tools/_rank_genes_groups.py:418: RuntimeWarning: overflow encountered in expm1\n",
      "  self.expm1_func(mean_rest) + 1e-9\n",
      "/Users/chenlingxi/miniconda3/envs/stime/lib/python3.10/site-packages/scanpy/tools/_rank_genes_groups.py:417: RuntimeWarning: invalid value encountered in divide\n",
      "  foldchanges = (self.expm1_func(mean_group) + 1e-9) / (\n",
      "/Users/chenlingxi/miniconda3/envs/stime/lib/python3.10/site-packages/scanpy/tools/_rank_genes_groups.py:420: RuntimeWarning: divide by zero encountered in log2\n",
      "  self.stats[group_name, 'logfoldchanges'] = np.log2(\n",
      "/Users/chenlingxi/miniconda3/envs/stime/lib/python3.10/site-packages/scanpy/tools/_rank_genes_groups.py:417: RuntimeWarning: overflow encountered in expm1\n",
      "  foldchanges = (self.expm1_func(mean_group) + 1e-9) / (\n",
      "/Users/chenlingxi/miniconda3/envs/stime/lib/python3.10/site-packages/scanpy/tools/_rank_genes_groups.py:418: RuntimeWarning: overflow encountered in expm1\n",
      "  self.expm1_func(mean_rest) + 1e-9\n",
      "/Users/chenlingxi/miniconda3/envs/stime/lib/python3.10/site-packages/scanpy/tools/_rank_genes_groups.py:417: RuntimeWarning: invalid value encountered in divide\n",
      "  foldchanges = (self.expm1_func(mean_group) + 1e-9) / (\n",
      "/Users/chenlingxi/miniconda3/envs/stime/lib/python3.10/site-packages/scanpy/tools/_rank_genes_groups.py:420: RuntimeWarning: divide by zero encountered in log2\n",
      "  self.stats[group_name, 'logfoldchanges'] = np.log2(\n"
     ]
    }
   ],
   "source": [
    "sc.tl.rank_genes_groups(adata, groupby=\"type\", method='wilcoxon')\n",
    "dedf = sc.get.rank_genes_groups_df(adata, group=\"SCZ\")\n",
    "print(dedf[dedf.names.isin(['GSK3B', 'GSK3B'])])\n"
   ]
  },
  {
   "cell_type": "code",
   "execution_count": 31,
   "id": "6dbc46b4-fb6e-434b-9625-15d6c4eec223",
   "metadata": {},
   "outputs": [
    {
     "name": "stdout",
     "output_type": "stream",
     "text": [
      "       names    scores  logfoldchanges     pvals  pvals_adj\n",
      "21585  GSK3B -0.853437             NaN  0.427696   0.872619\n"
     ]
    },
    {
     "data": {
      "image/png": "[encoded data removed]",
      "text/plain": [
       "<Figure size 640x480 with 1 Axes>"
      ]
     },
     "metadata": {},
     "output_type": "display_data"
    },
    {
     "data": {
      "text/plain": [
       "Text(0.5, 1.0, 'SCZ + GSK3B')"
      ]
     },
     "execution_count": 31,
     "metadata": {},
     "output_type": "execute_result"
    },
    {
     "data": {
      "image/png": "[encoded data removed]",
      "text/plain": [
       "<Figure size 640x480 with 1 Axes>"
      ]
     },
     "metadata": {},
     "output_type": "display_data"
    }
   ],
   "source": [
    "print(dedf[dedf.names.isin(['GSK3B', 'GSK3B'])])\n",
    "#sc.pl.violin(adata, ['PPARGC1A'], groupby='type')\n",
    "sns.histplot(adata[adata.obs.type=='Control', 'GSK3B'].X)\n",
    "plt.title('Control + GSK3B')\n",
    "plt.show()\n",
    "sns.histplot(adata[adata.obs.type=='SCZ', 'GSK3B'].X)\n",
    "plt.title('SCZ + GSK3B')"
   ]
  },
  {
   "cell_type": "code",
   "execution_count": 144,
   "id": "e370657a-3b06-4d0a-9575-c62a804decda",
   "metadata": {},
   "outputs": [
    {
     "name": "stdout",
     "output_type": "stream",
     "text": [
      "Index(['Case-A52', 'Case-A53', 'Case-A54', 'Case-A55', 'Case-A56', 'Case-A58',\n",
      "       'Con-B02', 'Con-B04', 'Con-B08', 'Con-B21', 'Con-B22'],\n",
      "      dtype='object')\n",
      "WARNING: Default of the method has been changed to 't-test' from 't-test_overestim_var'\n",
      "WARNING: It seems you use rank_genes_groups on the raw count data. Please logarithmize your data before calling rank_genes_groups.\n",
      "               names    scores  logfoldchanges     pvals  pvals_adj\n",
      "3454  hsa-miR-485-5p -2.868416      -11.329876  0.038423   0.707772\n"
     ]
    },
    {
     "name": "stderr",
     "output_type": "stream",
     "text": [
      "/var/folders/0x/6vsm66sd6g3_gc636v4617km0000gn/T/ipykernel_93340/729740927.py:11: FutureWarning: X.dtype being converted to np.float32 from int64. In the next version of anndata (0.9) conversion will not be automatic. Pass dtype explicitly to avoid this warning. Pass `AnnData(X, dtype=X.dtype, ...)` to get the future behavour.\n",
      "  adata = ad.AnnData(df.T)\n",
      "/Users/chenlingxi/miniconda3/lib/python3.9/site-packages/scanpy/tools/_rank_genes_groups.py:417: RuntimeWarning: overflow encountered in expm1\n",
      "  foldchanges = (self.expm1_func(mean_group) + 1e-9) / (\n",
      "/Users/chenlingxi/miniconda3/lib/python3.9/site-packages/scanpy/tools/_rank_genes_groups.py:418: RuntimeWarning: overflow encountered in expm1\n",
      "  self.expm1_func(mean_rest) + 1e-9\n",
      "/Users/chenlingxi/miniconda3/lib/python3.9/site-packages/scanpy/tools/_rank_genes_groups.py:417: RuntimeWarning: invalid value encountered in true_divide\n",
      "  foldchanges = (self.expm1_func(mean_group) + 1e-9) / (\n",
      "/Users/chenlingxi/miniconda3/lib/python3.9/site-packages/scanpy/tools/_rank_genes_groups.py:420: RuntimeWarning: divide by zero encountered in log2\n",
      "  self.stats[group_name, 'logfoldchanges'] = np.log2(\n",
      "/Users/chenlingxi/miniconda3/lib/python3.9/site-packages/scanpy/tools/_rank_genes_groups.py:417: RuntimeWarning: overflow encountered in expm1\n",
      "  foldchanges = (self.expm1_func(mean_group) + 1e-9) / (\n",
      "/Users/chenlingxi/miniconda3/lib/python3.9/site-packages/scanpy/tools/_rank_genes_groups.py:418: RuntimeWarning: overflow encountered in expm1\n",
      "  self.expm1_func(mean_rest) + 1e-9\n",
      "/Users/chenlingxi/miniconda3/lib/python3.9/site-packages/scanpy/tools/_rank_genes_groups.py:417: RuntimeWarning: invalid value encountered in true_divide\n",
      "  foldchanges = (self.expm1_func(mean_group) + 1e-9) / (\n",
      "/Users/chenlingxi/miniconda3/lib/python3.9/site-packages/scanpy/tools/_rank_genes_groups.py:420: RuntimeWarning: divide by zero encountered in log2\n",
      "  self.stats[group_name, 'logfoldchanges'] = np.log2(\n"
     ]
    },
    {
     "data": {
      "image/png": "[encoded data removed]",
      "text/plain": [
       "<Figure size 640x480 with 1 Axes>"
      ]
     },
     "metadata": {},
     "output_type": "display_data"
    },
    {
     "data": {
      "text/plain": [
       "Text(0.5, 1.0, 'SCZ')"
      ]
     },
     "execution_count": 144,
     "metadata": {},
     "output_type": "execute_result"
    },
    {
     "data": {
      "image/png": "[encoded data removed]",
      "text/plain": [
       "<Figure size 640x480 with 1 Axes>"
      ]
     },
     "metadata": {},
     "output_type": "display_data"
    }
   ],
   "source": [
    "norm = 'count' \n",
    "#norm = 'fpkm'\n",
    "df = pd.read_csv('scz_count/miRNA/All_miRNA.{}.list'.format(norm), delimiter='\\t')\n",
    "if norm == 'count':\n",
    "    df.index = df['#miRNA']\n",
    "    del df['#miRNA']\n",
    "    del df['geneLength']\n",
    "else:\n",
    "    df.index = df['#ID']\n",
    "    del df['#ID']\n",
    "adata = ad.AnnData(df.T)\n",
    "print(adata.obs_names)\n",
    "adata.obs['type'] = ['SCZ']*6 + ['Control']*5\n",
    "\n",
    "miRNA_adata = adata\n",
    "import scanpy as sc\n",
    "\n",
    "sc.tl.rank_genes_groups(adata, groupby=\"type\")\n",
    "dedf = sc.get.rank_genes_groups_df(adata, group=\"SCZ\")\n",
    "print(dedf[dedf.names.isin(['PGC1A', 'hsa-miR-485-5p'])])\n",
    "#sc.pl.violin(adata, ['PPARGC1A'], groupby='type')\n",
    "sns.histplot(adata[adata.obs.type=='Control', 'hsa-miR-485-5p'].X)\n",
    "plt.title('Control')\n",
    "plt.show()\n",
    "sns.histplot(adata[adata.obs.type=='SCZ', 'hsa-miR-485-5p'].X)\n",
    "plt.title('SCZ')"
   ]
  },
  {
   "cell_type": "code",
   "execution_count": 145,
   "id": "60feef52-8ec0-4f5b-99b7-9731954ec615",
   "metadata": {},
   "outputs": [
    {
     "name": "stdout",
     "output_type": "stream",
     "text": [
      "WARNING: Default of the method has been changed to 't-test' from 't-test_overestim_var'\n",
      "WARNING: It seems you use rank_genes_groups on the raw count data. Please logarithmize your data before calling rank_genes_groups.\n",
      "                names    scores  logfoldchanges     pvals  pvals_adj\n",
      "6243  ENST00000522525  1.226559      185.948868  0.274593     0.7215\n"
     ]
    },
    {
     "name": "stderr",
     "output_type": "stream",
     "text": [
      "/var/folders/0x/6vsm66sd6g3_gc636v4617km0000gn/T/ipykernel_93340/741708793.py:4: FutureWarning: X.dtype being converted to np.float32 from int64. In the next version of anndata (0.9) conversion will not be automatic. Pass dtype explicitly to avoid this warning. Pass `AnnData(X, dtype=X.dtype, ...)` to get the future behavour.\n",
      "  adata = ad.AnnData(df.T)\n",
      "/Users/chenlingxi/miniconda3/lib/python3.9/site-packages/scanpy/tools/_rank_genes_groups.py:417: RuntimeWarning: overflow encountered in expm1\n",
      "  foldchanges = (self.expm1_func(mean_group) + 1e-9) / (\n",
      "/Users/chenlingxi/miniconda3/lib/python3.9/site-packages/scanpy/tools/_rank_genes_groups.py:418: RuntimeWarning: overflow encountered in expm1\n",
      "  self.expm1_func(mean_rest) + 1e-9\n",
      "/Users/chenlingxi/miniconda3/lib/python3.9/site-packages/scanpy/tools/_rank_genes_groups.py:417: RuntimeWarning: invalid value encountered in true_divide\n",
      "  foldchanges = (self.expm1_func(mean_group) + 1e-9) / (\n",
      "/Users/chenlingxi/miniconda3/lib/python3.9/site-packages/scanpy/tools/_rank_genes_groups.py:420: RuntimeWarning: divide by zero encountered in log2\n",
      "  self.stats[group_name, 'logfoldchanges'] = np.log2(\n",
      "/Users/chenlingxi/miniconda3/lib/python3.9/site-packages/scanpy/tools/_rank_genes_groups.py:417: RuntimeWarning: overflow encountered in expm1\n",
      "  foldchanges = (self.expm1_func(mean_group) + 1e-9) / (\n",
      "/Users/chenlingxi/miniconda3/lib/python3.9/site-packages/scanpy/tools/_rank_genes_groups.py:418: RuntimeWarning: overflow encountered in expm1\n",
      "  self.expm1_func(mean_rest) + 1e-9\n",
      "/Users/chenlingxi/miniconda3/lib/python3.9/site-packages/scanpy/tools/_rank_genes_groups.py:417: RuntimeWarning: invalid value encountered in true_divide\n",
      "  foldchanges = (self.expm1_func(mean_group) + 1e-9) / (\n",
      "/Users/chenlingxi/miniconda3/lib/python3.9/site-packages/scanpy/tools/_rank_genes_groups.py:420: RuntimeWarning: divide by zero encountered in log2\n",
      "  self.stats[group_name, 'logfoldchanges'] = np.log2(\n"
     ]
    },
    {
     "data": {
      "image/png": "[encoded data removed]",
      "text/plain": [
       "<Figure size 640x480 with 1 Axes>"
      ]
     },
     "metadata": {},
     "output_type": "display_data"
    },
    {
     "data": {
      "text/plain": [
       "Text(0.5, 1.0, 'SCZ')"
      ]
     },
     "execution_count": 145,
     "metadata": {},
     "output_type": "execute_result"
    },
    {
     "data": {
      "image/png": "[encoded data removed]",
      "text/plain": [
       "<Figure size 640x480 with 1 Axes>"
      ]
     },
     "metadata": {},
     "output_type": "display_data"
    }
   ],
   "source": [
    "\n",
    "df = pd.read_csv('scz_count/lncRNA/LncRNA_counts.list', delimiter='\\t')\n",
    "df.index = df['#ID']\n",
    "del df['#ID']\n",
    "adata = ad.AnnData(df.T)\n",
    "adata.obs['type'] = ['SCZ']*6 + ['Control']*5\n",
    "\n",
    "lncRNA_adata = adata\n",
    "\n",
    "import scanpy as sc\n",
    "\n",
    "sc.tl.rank_genes_groups(adata, groupby=\"type\")\n",
    "dedf = sc.get.rank_genes_groups_df(adata, group=\"SCZ\")\n",
    "print(dedf[dedf.names.isin(['ENST00000522525', 'ENST00000522525'])])\n",
    "#sc.pl.violin(adata, ['PPARGC1A'], groupby='type')\n",
    "sns.histplot(adata[adata.obs.type=='Control', 'ENST00000522525'].X)\n",
    "plt.title('Control')\n",
    "plt.show()\n",
    "sns.histplot(adata[adata.obs.type=='SCZ', 'ENST00000522525'].X)\n",
    "plt.title('SCZ')\n",
    "\n"
   ]
  },
  {
   "cell_type": "code",
   "execution_count": 146,
   "id": "6cec007e-b543-4f1e-a449-bf77b615b73b",
   "metadata": {},
   "outputs": [
    {
     "name": "stdout",
     "output_type": "stream",
     "text": [
      "(11, 25888)\n",
      "(11, 3494)\n",
      "(11, 51191)\n",
      "(11, 80573)\n",
      "[[  8.   0.   0.]\n",
      " [ 30.   4.   0.]\n",
      " [  4.   0. 543.]\n",
      " [  3.   0.  14.]\n",
      " [ 36.   0.   0.]\n",
      " [ 15.   0.  92.]]\n",
      "[[ 3.  8.  0.]\n",
      " [ 0.  7.  0.]\n",
      " [ 2.  7.  0.]\n",
      " [ 0. 16.  0.]\n",
      " [ 0.  1.  0.]]\n"
     ]
    },
    {
     "name": "stderr",
     "output_type": "stream",
     "text": [
      "/Users/chenlingxi/miniconda3/lib/python3.9/site-packages/anndata/_core/anndata.py:1828: UserWarning: Observation names are not unique. To make them unique, call `.obs_names_make_unique`.\n",
      "  utils.warn_names_duplicates(\"obs\")\n",
      "/Users/chenlingxi/miniconda3/lib/python3.9/site-packages/anndata/_core/anndata.py:1828: UserWarning: Observation names are not unique. To make them unique, call `.obs_names_make_unique`.\n",
      "  utils.warn_names_duplicates(\"obs\")\n",
      "/Users/chenlingxi/miniconda3/lib/python3.9/site-packages/anndata/_core/anndata.py:1830: UserWarning: Variable names are not unique. To make them unique, call `.var_names_make_unique`.\n",
      "  utils.warn_names_duplicates(\"var\")\n"
     ]
    }
   ],
   "source": [
    "genes = list(set(axis_df.miRNA.tolist() + axis_df.ceRNA.tolist()))\n",
    "#genes = ['PPARGC1A', 'hsa-miR-485-5p', 'MIR29B2CHG', 'THUMPD3-AS1']\n",
    "genes = ['PPARGC1A', 'hsa-miR-485-5p', 'ENSG00000203709', 'ENST00000522525']\n",
    "genes = ['PPARGC1A', 'hsa-miR-485-5p', 'ENST00000522525']\n",
    "\n",
    "print(mRNA_adata.X.shape)\n",
    "print(miRNA_adata.X.shape)\n",
    "print(lncRNA_adata.X.shape)\n",
    "adata = ad.concat([mRNA_adata.T, miRNA_adata.T, lncRNA_adata.T], merge=\"same\").T\n",
    "print(adata.X.shape)\n",
    "SCZ_adata = adata[adata.obs.type == 'SCZ', adata.var_names.isin(genes)]\n",
    "print(SCZ_adata.X)\n",
    "Control_adata = adata[adata.obs.type == 'Control', adata.var_names.isin(genes)]\n",
    "print(Control_adata.X)"
   ]
  },
  {
   "cell_type": "code",
   "execution_count": 149,
   "id": "7edb1269-c072-4ff9-bd57-a772c99ed223",
   "metadata": {},
   "outputs": [
    {
     "data": {
      "text/html": [
       "<div>\n",
       "<style scoped>\n",
       "    .dataframe tbody tr th:only-of-type {\n",
       "        vertical-align: middle;\n",
       "    }\n",
       "\n",
       "    .dataframe tbody tr th {\n",
       "        vertical-align: top;\n",
       "    }\n",
       "\n",
       "    .dataframe thead th {\n",
       "        text-align: right;\n",
       "    }\n",
       "</style>\n",
       "<table border=\"1\" class=\"dataframe\">\n",
       "  <thead>\n",
       "    <tr style=\"text-align: right;\">\n",
       "      <th></th>\n",
       "      <th>patient</th>\n",
       "      <th>gene1</th>\n",
       "      <th>gene2</th>\n",
       "      <th>correlation type</th>\n",
       "      <th>correlation</th>\n",
       "      <th>p value</th>\n",
       "    </tr>\n",
       "  </thead>\n",
       "  <tbody>\n",
       "    <tr>\n",
       "      <th>0</th>\n",
       "      <td>All</td>\n",
       "      <td>PPARGC1A</td>\n",
       "      <td>hsa-miR-485-5p</td>\n",
       "      <td>Pearson Correlation</td>\n",
       "      <td>-0.362883</td>\n",
       "      <td>0.272707</td>\n",
       "    </tr>\n",
       "    <tr>\n",
       "      <th>1</th>\n",
       "      <td>All</td>\n",
       "      <td>PPARGC1A</td>\n",
       "      <td>hsa-miR-485-5p</td>\n",
       "      <td>Spearman Correlation</td>\n",
       "      <td>-0.623654</td>\n",
       "      <td>0.040328</td>\n",
       "    </tr>\n",
       "    <tr>\n",
       "      <th>2</th>\n",
       "      <td>All</td>\n",
       "      <td>PPARGC1A</td>\n",
       "      <td>hsa-miR-485-5p</td>\n",
       "      <td>Kendall's tau</td>\n",
       "      <td>-0.464420</td>\n",
       "      <td>0.066287</td>\n",
       "    </tr>\n",
       "    <tr>\n",
       "      <th>3</th>\n",
       "      <td>All</td>\n",
       "      <td>PPARGC1A</td>\n",
       "      <td>ENST00000522525</td>\n",
       "      <td>Pearson Correlation</td>\n",
       "      <td>-0.114964</td>\n",
       "      <td>0.736426</td>\n",
       "    </tr>\n",
       "    <tr>\n",
       "      <th>4</th>\n",
       "      <td>All</td>\n",
       "      <td>PPARGC1A</td>\n",
       "      <td>ENST00000522525</td>\n",
       "      <td>Spearman Correlation</td>\n",
       "      <td>0.242694</td>\n",
       "      <td>0.472106</td>\n",
       "    </tr>\n",
       "    <tr>\n",
       "      <th>5</th>\n",
       "      <td>All</td>\n",
       "      <td>PPARGC1A</td>\n",
       "      <td>ENST00000522525</td>\n",
       "      <td>Kendall's tau</td>\n",
       "      <td>0.215587</td>\n",
       "      <td>0.417263</td>\n",
       "    </tr>\n",
       "    <tr>\n",
       "      <th>6</th>\n",
       "      <td>All</td>\n",
       "      <td>hsa-miR-485-5p</td>\n",
       "      <td>ENST00000522525</td>\n",
       "      <td>Pearson Correlation</td>\n",
       "      <td>-0.301535</td>\n",
       "      <td>0.367519</td>\n",
       "    </tr>\n",
       "    <tr>\n",
       "      <th>7</th>\n",
       "      <td>All</td>\n",
       "      <td>hsa-miR-485-5p</td>\n",
       "      <td>ENST00000522525</td>\n",
       "      <td>Spearman Correlation</td>\n",
       "      <td>-0.601782</td>\n",
       "      <td>0.050138</td>\n",
       "    </tr>\n",
       "    <tr>\n",
       "      <th>8</th>\n",
       "      <td>All</td>\n",
       "      <td>hsa-miR-485-5p</td>\n",
       "      <td>ENST00000522525</td>\n",
       "      <td>Kendall's tau</td>\n",
       "      <td>-0.522233</td>\n",
       "      <td>0.057589</td>\n",
       "    </tr>\n",
       "  </tbody>\n",
       "</table>\n",
       "</div>"
      ],
      "text/plain": [
       "  patient           gene1            gene2      correlation type  correlation  \\\n",
       "0     All        PPARGC1A   hsa-miR-485-5p   Pearson Correlation    -0.362883   \n",
       "1     All        PPARGC1A   hsa-miR-485-5p  Spearman Correlation    -0.623654   \n",
       "2     All        PPARGC1A   hsa-miR-485-5p         Kendall's tau    -0.464420   \n",
       "3     All        PPARGC1A  ENST00000522525   Pearson Correlation    -0.114964   \n",
       "4     All        PPARGC1A  ENST00000522525  Spearman Correlation     0.242694   \n",
       "5     All        PPARGC1A  ENST00000522525         Kendall's tau     0.215587   \n",
       "6     All  hsa-miR-485-5p  ENST00000522525   Pearson Correlation    -0.301535   \n",
       "7     All  hsa-miR-485-5p  ENST00000522525  Spearman Correlation    -0.601782   \n",
       "8     All  hsa-miR-485-5p  ENST00000522525         Kendall's tau    -0.522233   \n",
       "\n",
       "    p value  \n",
       "0  0.272707  \n",
       "1  0.040328  \n",
       "2  0.066287  \n",
       "3  0.736426  \n",
       "4  0.472106  \n",
       "5  0.417263  \n",
       "6  0.367519  \n",
       "7  0.050138  \n",
       "8  0.057589  "
      ]
     },
     "execution_count": 149,
     "metadata": {},
     "output_type": "execute_result"
    }
   ],
   "source": [
    "from scipy import stats\n",
    "\n",
    "data = []\n",
    "for gene1, gene2 in [('PPARGC1A', 'hsa-miR-485-5p'), ('PPARGC1A', 'ENST00000522525'), ('hsa-miR-485-5p', 'ENST00000522525')]:\n",
    "        \n",
    "    res = stats.pearsonr(adata[:, gene1].X.T[0], adata[:, gene2].X.T[0])\n",
    "    data.append(['All', gene1, gene2, 'Pearson Correlation', res.statistic, res.pvalue])\n",
    "    \n",
    "    #res = stats.pearsonr(SCZ_adata[:, gene1].X.T[0], SCZ_adata[:, gene2].X.T[0])\n",
    "    #print('SCZ', gene1, gene2, 'pearsonr', res.statistic, res.pvalue)\n",
    "    \n",
    "    \n",
    "    #res = stats.pearsonr(Control_adata[:, gene1].X.T[0], Control_adata[:, gene2].X.T[0])\n",
    "    #print('Control', gene1, gene2, 'pearsonr', res.statistic, res.pvalue)\n",
    "    \n",
    "    \n",
    "    res = stats.spearmanr(adata[:, gene1].X.T[0], adata[:, gene2].X.T[0])\n",
    "    data.append(['All', gene1, gene2, 'Spearman Correlation', res.correlation, res.pvalue])\n",
    "    \n",
    "    #res = stats.spearmanr(SCZ_adata[:, gene1].X.T[0], SCZ_adata[:, gene2].X.T[0])\n",
    "    #print('SCZ', gene1, gene2, 'spearmanr', res.correlation, res.pvalue)\n",
    "    \n",
    "    \n",
    "    #res = stats.spearmanr(Control_adata[:, gene1].X.T[0], Control_adata[:, gene2].X.T[0])\n",
    "    #print('Control', gene1, gene2, 'spearmanr', res.correlation, res.pvalue)\n",
    "    \n",
    "    res = stats.kendalltau(adata[:, gene1].X.T[0], adata[:, gene2].X.T[0])\n",
    "    data.append(['All', gene1, gene2, \"Kendall's tau\", res.correlation, res.pvalue])\n",
    "    \n",
    "\n",
    "corr_df = pd.DataFrame(data)\n",
    "\n",
    "corr_df.columns = ['patient', 'gene1', 'gene2', 'correlation type', 'correlation', 'p value']\n",
    "corr_df.to_csv('axis_correlation.csv')\n",
    "corr_df"
   ]
  }
 ],
 "metadata": {
  "kernelspec": {
   "display_name": "Python 3 (ipykernel)",
   "language": "python",
   "name": "python3"
  },
  "language_info": {
   "codemirror_mode": {
    "name": "ipython",
    "version": 3
   },
   "file_extension": ".py",
   "mimetype": "text/x-python",
   "name": "python",
   "nbconvert_exporter": "python",
   "pygments_lexer": "ipython3",
   "version": "3.10.9"
  }
 },
 "nbformat": 4,
 "nbformat_minor": 5
}
